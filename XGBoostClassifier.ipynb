{
 "cells": [
  {
   "cell_type": "code",
   "execution_count": 1,
   "metadata": {
    "execution": {
     "iopub.execute_input": "2020-10-16T13:14:21.434197Z",
     "iopub.status.busy": "2020-10-16T13:14:21.433412Z",
     "iopub.status.idle": "2020-10-16T13:14:22.232136Z",
     "shell.execute_reply": "2020-10-16T13:14:22.230984Z"
    },
    "papermill": {
     "duration": 0.816894,
     "end_time": "2020-10-16T13:14:22.232260",
     "exception": false,
     "start_time": "2020-10-16T13:14:21.415366",
     "status": "completed"
    },
    "tags": []
   },
   "outputs": [],
   "source": [
    "import sys\n",
    "sys.path.append('../input/iterative-stratification/iterative-stratification-master')\n",
    "from iterstrat.ml_stratifiers import MultilabelStratifiedKFold"
   ]
  },
  {
   "cell_type": "code",
   "execution_count": 2,
   "metadata": {
    "_cell_guid": "b1076dfc-b9ad-4769-8c92-a6c4dae69d19",
    "_uuid": "8f2839f25d086af736a60e9eeb907d3b93b6e0e5",
    "execution": {
     "iopub.execute_input": "2020-10-16T13:14:22.261634Z",
     "iopub.status.busy": "2020-10-16T13:14:22.260926Z",
     "iopub.status.idle": "2020-10-16T13:14:24.205883Z",
     "shell.execute_reply": "2020-10-16T13:14:24.205211Z"
    },
    "papermill": {
     "duration": 1.962208,
     "end_time": "2020-10-16T13:14:24.205993",
     "exception": false,
     "start_time": "2020-10-16T13:14:22.243785",
     "status": "completed"
    },
    "tags": []
   },
   "outputs": [],
   "source": [
    "import numpy as np\n",
    "import pandas as pd\n",
    "from xgboost import XGBClassifier\n",
    "from sklearn.model_selection import KFold\n",
    "from category_encoders import CountEncoder\n",
    "from sklearn.metrics import log_loss\n",
    "\n",
    "from iterstrat.ml_stratifiers import MultilabelStratifiedKFold\n",
    "\n",
    "from sklearn.decomposition import PCA\n",
    "import matplotlib.pyplot as plt\n",
    "import seaborn as sns\n",
    "from sklearn.pipeline import Pipeline\n",
    "\n",
    "from sklearn.multioutput import MultiOutputClassifier\n",
    "import time"
   ]
  },
  {
   "cell_type": "code",
   "execution_count": 3,
   "metadata": {
    "_cell_guid": "79c7e3d0-c299-4dcb-8224-4455121ee9b0",
    "_uuid": "d629ff2d2480ee46fbb7e2d37f6b5fab8052498a",
    "execution": {
     "iopub.execute_input": "2020-10-16T13:14:24.233942Z",
     "iopub.status.busy": "2020-10-16T13:14:24.233154Z",
     "iopub.status.idle": "2020-10-16T13:14:24.236158Z",
     "shell.execute_reply": "2020-10-16T13:14:24.235671Z"
    },
    "papermill": {
     "duration": 0.018282,
     "end_time": "2020-10-16T13:14:24.236249",
     "exception": false,
     "start_time": "2020-10-16T13:14:24.217967",
     "status": "completed"
    },
    "tags": []
   },
   "outputs": [],
   "source": [
    "SEED = 42\n",
    "FOLDS = 5\n",
    "DATA_DIR = '/kaggle/input/lish-moa/'\n",
    "np.random.seed(SEED)"
   ]
  },
  {
   "cell_type": "code",
   "execution_count": 4,
   "metadata": {
    "execution": {
     "iopub.execute_input": "2020-10-16T13:14:24.265568Z",
     "iopub.status.busy": "2020-10-16T13:14:24.264281Z",
     "iopub.status.idle": "2020-10-16T13:14:29.966081Z",
     "shell.execute_reply": "2020-10-16T13:14:29.965221Z"
    },
    "papermill": {
     "duration": 5.718925,
     "end_time": "2020-10-16T13:14:29.966206",
     "exception": false,
     "start_time": "2020-10-16T13:14:24.247281",
     "status": "completed"
    },
    "tags": []
   },
   "outputs": [],
   "source": [
    "train = pd.read_csv(DATA_DIR+'train_features.csv')\n",
    "test = pd.read_csv(DATA_DIR+'test_features.csv')\n",
    "train_target = pd.read_csv(DATA_DIR+'train_targets_scored.csv')\n",
    "sub = pd.read_csv(DATA_DIR+'sample_submission.csv')"
   ]
  },
  {
   "cell_type": "code",
   "execution_count": 5,
   "metadata": {
    "execution": {
     "iopub.execute_input": "2020-10-16T13:14:29.997511Z",
     "iopub.status.busy": "2020-10-16T13:14:29.996851Z",
     "iopub.status.idle": "2020-10-16T13:14:30.000504Z",
     "shell.execute_reply": "2020-10-16T13:14:30.000021Z"
    },
    "papermill": {
     "duration": 0.021941,
     "end_time": "2020-10-16T13:14:30.000630",
     "exception": false,
     "start_time": "2020-10-16T13:14:29.978689",
     "status": "completed"
    },
    "tags": []
   },
   "outputs": [],
   "source": [
    "def preprocess(df):\n",
    "    df = df.copy()\n",
    "    df.loc[:, 'cp_type'] = df.loc[:, 'cp_type'].map({'trt_cp': 0, 'ctl_vehicle': 1})\n",
    "    df.loc[:, 'cp_dose'] = df.loc[:, 'cp_dose'].map({'D1': 0, 'D2': 1})\n",
    "    del df['sig_id']\n",
    "    return df"
   ]
  },
  {
   "cell_type": "code",
   "execution_count": 6,
   "metadata": {
    "execution": {
     "iopub.execute_input": "2020-10-16T13:14:30.028011Z",
     "iopub.status.busy": "2020-10-16T13:14:30.027375Z",
     "iopub.status.idle": "2020-10-16T13:14:30.031760Z",
     "shell.execute_reply": "2020-10-16T13:14:30.031235Z"
    },
    "papermill": {
     "duration": 0.019621,
     "end_time": "2020-10-16T13:14:30.031865",
     "exception": false,
     "start_time": "2020-10-16T13:14:30.012244",
     "status": "completed"
    },
    "tags": []
   },
   "outputs": [],
   "source": [
    "#train = train.merge(train_target, on='sig_id')"
   ]
  },
  {
   "cell_type": "code",
   "execution_count": 7,
   "metadata": {
    "execution": {
     "iopub.execute_input": "2020-10-16T13:14:30.060241Z",
     "iopub.status.busy": "2020-10-16T13:14:30.058371Z",
     "iopub.status.idle": "2020-10-16T13:14:30.060940Z",
     "shell.execute_reply": "2020-10-16T13:14:30.061404Z"
    },
    "papermill": {
     "duration": 0.018191,
     "end_time": "2020-10-16T13:14:30.061550",
     "exception": false,
     "start_time": "2020-10-16T13:14:30.043359",
     "status": "completed"
    },
    "tags": []
   },
   "outputs": [],
   "source": [
    "#train.drop(train[train.cp_type=='ctl_vehicle'].index, axis=0, inplace=True)\n",
    "#test.drop(test[test.cp_type==1].index, axis=0, inplace=True)"
   ]
  },
  {
   "cell_type": "code",
   "execution_count": 8,
   "metadata": {
    "execution": {
     "iopub.execute_input": "2020-10-16T13:14:30.091584Z",
     "iopub.status.busy": "2020-10-16T13:14:30.090327Z",
     "iopub.status.idle": "2020-10-16T13:14:30.183489Z",
     "shell.execute_reply": "2020-10-16T13:14:30.182930Z"
    },
    "papermill": {
     "duration": 0.11041,
     "end_time": "2020-10-16T13:14:30.183622",
     "exception": false,
     "start_time": "2020-10-16T13:14:30.073212",
     "status": "completed"
    },
    "tags": []
   },
   "outputs": [],
   "source": [
    "train = preprocess(train)\n",
    "test = preprocess(test)"
   ]
  },
  {
   "cell_type": "code",
   "execution_count": 9,
   "metadata": {
    "execution": {
     "iopub.execute_input": "2020-10-16T13:14:30.218159Z",
     "iopub.status.busy": "2020-10-16T13:14:30.217264Z",
     "iopub.status.idle": "2020-10-16T13:14:30.250402Z",
     "shell.execute_reply": "2020-10-16T13:14:30.250896Z"
    },
    "papermill": {
     "duration": 0.055166,
     "end_time": "2020-10-16T13:14:30.251022",
     "exception": false,
     "start_time": "2020-10-16T13:14:30.195856",
     "status": "completed"
    },
    "tags": []
   },
   "outputs": [
    {
     "data": {
      "text/html": [
       "<div>\n",
       "<style scoped>\n",
       "    .dataframe tbody tr th:only-of-type {\n",
       "        vertical-align: middle;\n",
       "    }\n",
       "\n",
       "    .dataframe tbody tr th {\n",
       "        vertical-align: top;\n",
       "    }\n",
       "\n",
       "    .dataframe thead th {\n",
       "        text-align: right;\n",
       "    }\n",
       "</style>\n",
       "<table border=\"1\" class=\"dataframe\">\n",
       "  <thead>\n",
       "    <tr style=\"text-align: right;\">\n",
       "      <th></th>\n",
       "      <th>cp_type</th>\n",
       "      <th>cp_time</th>\n",
       "      <th>cp_dose</th>\n",
       "      <th>g-0</th>\n",
       "      <th>g-1</th>\n",
       "      <th>g-2</th>\n",
       "      <th>g-3</th>\n",
       "      <th>g-4</th>\n",
       "      <th>g-5</th>\n",
       "      <th>g-6</th>\n",
       "      <th>...</th>\n",
       "      <th>c-90</th>\n",
       "      <th>c-91</th>\n",
       "      <th>c-92</th>\n",
       "      <th>c-93</th>\n",
       "      <th>c-94</th>\n",
       "      <th>c-95</th>\n",
       "      <th>c-96</th>\n",
       "      <th>c-97</th>\n",
       "      <th>c-98</th>\n",
       "      <th>c-99</th>\n",
       "    </tr>\n",
       "  </thead>\n",
       "  <tbody>\n",
       "    <tr>\n",
       "      <th>0</th>\n",
       "      <td>0</td>\n",
       "      <td>24</td>\n",
       "      <td>0</td>\n",
       "      <td>1.0620</td>\n",
       "      <td>0.5577</td>\n",
       "      <td>-0.2479</td>\n",
       "      <td>-0.6208</td>\n",
       "      <td>-0.1944</td>\n",
       "      <td>-1.0120</td>\n",
       "      <td>-1.0220</td>\n",
       "      <td>...</td>\n",
       "      <td>0.2862</td>\n",
       "      <td>0.2584</td>\n",
       "      <td>0.8076</td>\n",
       "      <td>0.5523</td>\n",
       "      <td>-0.1912</td>\n",
       "      <td>0.6584</td>\n",
       "      <td>-0.3981</td>\n",
       "      <td>0.2139</td>\n",
       "      <td>0.3801</td>\n",
       "      <td>0.4176</td>\n",
       "    </tr>\n",
       "    <tr>\n",
       "      <th>1</th>\n",
       "      <td>0</td>\n",
       "      <td>72</td>\n",
       "      <td>0</td>\n",
       "      <td>0.0743</td>\n",
       "      <td>0.4087</td>\n",
       "      <td>0.2991</td>\n",
       "      <td>0.0604</td>\n",
       "      <td>1.0190</td>\n",
       "      <td>0.5207</td>\n",
       "      <td>0.2341</td>\n",
       "      <td>...</td>\n",
       "      <td>-0.4265</td>\n",
       "      <td>0.7543</td>\n",
       "      <td>0.4708</td>\n",
       "      <td>0.0230</td>\n",
       "      <td>0.2957</td>\n",
       "      <td>0.4899</td>\n",
       "      <td>0.1522</td>\n",
       "      <td>0.1241</td>\n",
       "      <td>0.6077</td>\n",
       "      <td>0.7371</td>\n",
       "    </tr>\n",
       "    <tr>\n",
       "      <th>2</th>\n",
       "      <td>0</td>\n",
       "      <td>48</td>\n",
       "      <td>0</td>\n",
       "      <td>0.6280</td>\n",
       "      <td>0.5817</td>\n",
       "      <td>1.5540</td>\n",
       "      <td>-0.0764</td>\n",
       "      <td>-0.0323</td>\n",
       "      <td>1.2390</td>\n",
       "      <td>0.1715</td>\n",
       "      <td>...</td>\n",
       "      <td>-0.7250</td>\n",
       "      <td>-0.6297</td>\n",
       "      <td>0.6103</td>\n",
       "      <td>0.0223</td>\n",
       "      <td>-1.3240</td>\n",
       "      <td>-0.3174</td>\n",
       "      <td>-0.6417</td>\n",
       "      <td>-0.2187</td>\n",
       "      <td>-1.4080</td>\n",
       "      <td>0.6931</td>\n",
       "    </tr>\n",
       "    <tr>\n",
       "      <th>3</th>\n",
       "      <td>0</td>\n",
       "      <td>48</td>\n",
       "      <td>0</td>\n",
       "      <td>-0.5138</td>\n",
       "      <td>-0.2491</td>\n",
       "      <td>-0.2656</td>\n",
       "      <td>0.5288</td>\n",
       "      <td>4.0620</td>\n",
       "      <td>-0.8095</td>\n",
       "      <td>-1.9590</td>\n",
       "      <td>...</td>\n",
       "      <td>-2.0990</td>\n",
       "      <td>-0.6441</td>\n",
       "      <td>-5.6300</td>\n",
       "      <td>-1.3780</td>\n",
       "      <td>-0.8632</td>\n",
       "      <td>-1.2880</td>\n",
       "      <td>-1.6210</td>\n",
       "      <td>-0.8784</td>\n",
       "      <td>-0.3876</td>\n",
       "      <td>-0.8154</td>\n",
       "    </tr>\n",
       "    <tr>\n",
       "      <th>4</th>\n",
       "      <td>0</td>\n",
       "      <td>72</td>\n",
       "      <td>1</td>\n",
       "      <td>-0.3254</td>\n",
       "      <td>-0.4009</td>\n",
       "      <td>0.9700</td>\n",
       "      <td>0.6919</td>\n",
       "      <td>1.4180</td>\n",
       "      <td>-0.8244</td>\n",
       "      <td>-0.2800</td>\n",
       "      <td>...</td>\n",
       "      <td>0.0042</td>\n",
       "      <td>0.0048</td>\n",
       "      <td>0.6670</td>\n",
       "      <td>1.0690</td>\n",
       "      <td>0.5523</td>\n",
       "      <td>-0.3031</td>\n",
       "      <td>0.1094</td>\n",
       "      <td>0.2885</td>\n",
       "      <td>-0.3786</td>\n",
       "      <td>0.7125</td>\n",
       "    </tr>\n",
       "    <tr>\n",
       "      <th>...</th>\n",
       "      <td>...</td>\n",
       "      <td>...</td>\n",
       "      <td>...</td>\n",
       "      <td>...</td>\n",
       "      <td>...</td>\n",
       "      <td>...</td>\n",
       "      <td>...</td>\n",
       "      <td>...</td>\n",
       "      <td>...</td>\n",
       "      <td>...</td>\n",
       "      <td>...</td>\n",
       "      <td>...</td>\n",
       "      <td>...</td>\n",
       "      <td>...</td>\n",
       "      <td>...</td>\n",
       "      <td>...</td>\n",
       "      <td>...</td>\n",
       "      <td>...</td>\n",
       "      <td>...</td>\n",
       "      <td>...</td>\n",
       "      <td>...</td>\n",
       "    </tr>\n",
       "    <tr>\n",
       "      <th>23809</th>\n",
       "      <td>0</td>\n",
       "      <td>24</td>\n",
       "      <td>1</td>\n",
       "      <td>0.1394</td>\n",
       "      <td>-0.0636</td>\n",
       "      <td>-0.1112</td>\n",
       "      <td>-0.5080</td>\n",
       "      <td>-0.4713</td>\n",
       "      <td>0.7201</td>\n",
       "      <td>0.5773</td>\n",
       "      <td>...</td>\n",
       "      <td>0.1969</td>\n",
       "      <td>0.0262</td>\n",
       "      <td>-0.8121</td>\n",
       "      <td>0.3434</td>\n",
       "      <td>0.5372</td>\n",
       "      <td>-0.3246</td>\n",
       "      <td>0.0631</td>\n",
       "      <td>0.9171</td>\n",
       "      <td>0.5258</td>\n",
       "      <td>0.4680</td>\n",
       "    </tr>\n",
       "    <tr>\n",
       "      <th>23810</th>\n",
       "      <td>0</td>\n",
       "      <td>24</td>\n",
       "      <td>1</td>\n",
       "      <td>-1.3260</td>\n",
       "      <td>0.3478</td>\n",
       "      <td>-0.3743</td>\n",
       "      <td>0.9905</td>\n",
       "      <td>-0.7178</td>\n",
       "      <td>0.6621</td>\n",
       "      <td>-0.2252</td>\n",
       "      <td>...</td>\n",
       "      <td>0.4286</td>\n",
       "      <td>0.4426</td>\n",
       "      <td>0.0423</td>\n",
       "      <td>-0.3195</td>\n",
       "      <td>-0.8086</td>\n",
       "      <td>-0.9798</td>\n",
       "      <td>-0.2084</td>\n",
       "      <td>-0.1224</td>\n",
       "      <td>-0.2715</td>\n",
       "      <td>0.3689</td>\n",
       "    </tr>\n",
       "    <tr>\n",
       "      <th>23811</th>\n",
       "      <td>1</td>\n",
       "      <td>48</td>\n",
       "      <td>1</td>\n",
       "      <td>0.3942</td>\n",
       "      <td>0.3756</td>\n",
       "      <td>0.3109</td>\n",
       "      <td>-0.7389</td>\n",
       "      <td>0.5505</td>\n",
       "      <td>-0.0159</td>\n",
       "      <td>-0.2541</td>\n",
       "      <td>...</td>\n",
       "      <td>0.5409</td>\n",
       "      <td>0.3755</td>\n",
       "      <td>0.7343</td>\n",
       "      <td>0.2807</td>\n",
       "      <td>0.4116</td>\n",
       "      <td>0.6422</td>\n",
       "      <td>0.2256</td>\n",
       "      <td>0.7592</td>\n",
       "      <td>0.6656</td>\n",
       "      <td>0.3808</td>\n",
       "    </tr>\n",
       "    <tr>\n",
       "      <th>23812</th>\n",
       "      <td>0</td>\n",
       "      <td>24</td>\n",
       "      <td>0</td>\n",
       "      <td>0.6660</td>\n",
       "      <td>0.2324</td>\n",
       "      <td>0.4392</td>\n",
       "      <td>0.2044</td>\n",
       "      <td>0.8531</td>\n",
       "      <td>-0.0343</td>\n",
       "      <td>0.0323</td>\n",
       "      <td>...</td>\n",
       "      <td>-0.1105</td>\n",
       "      <td>0.4258</td>\n",
       "      <td>-0.2012</td>\n",
       "      <td>0.1506</td>\n",
       "      <td>1.5230</td>\n",
       "      <td>0.7101</td>\n",
       "      <td>0.1732</td>\n",
       "      <td>0.7015</td>\n",
       "      <td>-0.6290</td>\n",
       "      <td>0.0740</td>\n",
       "    </tr>\n",
       "    <tr>\n",
       "      <th>23813</th>\n",
       "      <td>0</td>\n",
       "      <td>72</td>\n",
       "      <td>0</td>\n",
       "      <td>-0.8598</td>\n",
       "      <td>1.0240</td>\n",
       "      <td>-0.1361</td>\n",
       "      <td>0.7952</td>\n",
       "      <td>-0.3611</td>\n",
       "      <td>-3.6750</td>\n",
       "      <td>-1.2420</td>\n",
       "      <td>...</td>\n",
       "      <td>-3.3890</td>\n",
       "      <td>-1.7450</td>\n",
       "      <td>-6.6300</td>\n",
       "      <td>-4.0950</td>\n",
       "      <td>-7.3860</td>\n",
       "      <td>-1.4160</td>\n",
       "      <td>-3.5770</td>\n",
       "      <td>-0.4775</td>\n",
       "      <td>-2.1500</td>\n",
       "      <td>-4.2520</td>\n",
       "    </tr>\n",
       "  </tbody>\n",
       "</table>\n",
       "<p>23814 rows × 875 columns</p>\n",
       "</div>"
      ],
      "text/plain": [
       "       cp_type  cp_time  cp_dose     g-0     g-1     g-2     g-3     g-4  \\\n",
       "0            0       24        0  1.0620  0.5577 -0.2479 -0.6208 -0.1944   \n",
       "1            0       72        0  0.0743  0.4087  0.2991  0.0604  1.0190   \n",
       "2            0       48        0  0.6280  0.5817  1.5540 -0.0764 -0.0323   \n",
       "3            0       48        0 -0.5138 -0.2491 -0.2656  0.5288  4.0620   \n",
       "4            0       72        1 -0.3254 -0.4009  0.9700  0.6919  1.4180   \n",
       "...        ...      ...      ...     ...     ...     ...     ...     ...   \n",
       "23809        0       24        1  0.1394 -0.0636 -0.1112 -0.5080 -0.4713   \n",
       "23810        0       24        1 -1.3260  0.3478 -0.3743  0.9905 -0.7178   \n",
       "23811        1       48        1  0.3942  0.3756  0.3109 -0.7389  0.5505   \n",
       "23812        0       24        0  0.6660  0.2324  0.4392  0.2044  0.8531   \n",
       "23813        0       72        0 -0.8598  1.0240 -0.1361  0.7952 -0.3611   \n",
       "\n",
       "          g-5     g-6  ...    c-90    c-91    c-92    c-93    c-94    c-95  \\\n",
       "0     -1.0120 -1.0220  ...  0.2862  0.2584  0.8076  0.5523 -0.1912  0.6584   \n",
       "1      0.5207  0.2341  ... -0.4265  0.7543  0.4708  0.0230  0.2957  0.4899   \n",
       "2      1.2390  0.1715  ... -0.7250 -0.6297  0.6103  0.0223 -1.3240 -0.3174   \n",
       "3     -0.8095 -1.9590  ... -2.0990 -0.6441 -5.6300 -1.3780 -0.8632 -1.2880   \n",
       "4     -0.8244 -0.2800  ...  0.0042  0.0048  0.6670  1.0690  0.5523 -0.3031   \n",
       "...       ...     ...  ...     ...     ...     ...     ...     ...     ...   \n",
       "23809  0.7201  0.5773  ...  0.1969  0.0262 -0.8121  0.3434  0.5372 -0.3246   \n",
       "23810  0.6621 -0.2252  ...  0.4286  0.4426  0.0423 -0.3195 -0.8086 -0.9798   \n",
       "23811 -0.0159 -0.2541  ...  0.5409  0.3755  0.7343  0.2807  0.4116  0.6422   \n",
       "23812 -0.0343  0.0323  ... -0.1105  0.4258 -0.2012  0.1506  1.5230  0.7101   \n",
       "23813 -3.6750 -1.2420  ... -3.3890 -1.7450 -6.6300 -4.0950 -7.3860 -1.4160   \n",
       "\n",
       "         c-96    c-97    c-98    c-99  \n",
       "0     -0.3981  0.2139  0.3801  0.4176  \n",
       "1      0.1522  0.1241  0.6077  0.7371  \n",
       "2     -0.6417 -0.2187 -1.4080  0.6931  \n",
       "3     -1.6210 -0.8784 -0.3876 -0.8154  \n",
       "4      0.1094  0.2885 -0.3786  0.7125  \n",
       "...       ...     ...     ...     ...  \n",
       "23809  0.0631  0.9171  0.5258  0.4680  \n",
       "23810 -0.2084 -0.1224 -0.2715  0.3689  \n",
       "23811  0.2256  0.7592  0.6656  0.3808  \n",
       "23812  0.1732  0.7015 -0.6290  0.0740  \n",
       "23813 -3.5770 -0.4775 -2.1500 -4.2520  \n",
       "\n",
       "[23814 rows x 875 columns]"
      ]
     },
     "execution_count": 9,
     "metadata": {},
     "output_type": "execute_result"
    }
   ],
   "source": [
    "train"
   ]
  },
  {
   "cell_type": "code",
   "execution_count": 10,
   "metadata": {
    "execution": {
     "iopub.execute_input": "2020-10-16T13:14:30.284238Z",
     "iopub.status.busy": "2020-10-16T13:14:30.281590Z",
     "iopub.status.idle": "2020-10-16T13:14:30.372849Z",
     "shell.execute_reply": "2020-10-16T13:14:30.372146Z"
    },
    "papermill": {
     "duration": 0.108664,
     "end_time": "2020-10-16T13:14:30.372969",
     "exception": false,
     "start_time": "2020-10-16T13:14:30.264305",
     "status": "completed"
    },
    "tags": []
   },
   "outputs": [],
   "source": [
    "X = train.to_numpy()\n",
    "X_test = test.to_numpy()\n",
    "y = train_target.iloc[:,1:].to_numpy()"
   ]
  },
  {
   "cell_type": "code",
   "execution_count": 11,
   "metadata": {
    "execution": {
     "iopub.execute_input": "2020-10-16T13:14:30.406707Z",
     "iopub.status.busy": "2020-10-16T13:14:30.405905Z",
     "iopub.status.idle": "2020-10-16T13:14:30.416405Z",
     "shell.execute_reply": "2020-10-16T13:14:30.415938Z"
    },
    "papermill": {
     "duration": 0.03026,
     "end_time": "2020-10-16T13:14:30.416504",
     "exception": false,
     "start_time": "2020-10-16T13:14:30.386244",
     "status": "completed"
    },
    "tags": []
   },
   "outputs": [
    {
     "data": {
      "text/plain": [
       "MultiOutputClassifier(estimator=XGBClassifier(base_score=None, booster=None,\n",
       "                                              colsample_bylevel=None,\n",
       "                                              colsample_bynode=None,\n",
       "                                              colsample_bytree=0.6522,\n",
       "                                              gamma=3.6975, gpu_id=None,\n",
       "                                              importance_type='gain',\n",
       "                                              interaction_constraints=None,\n",
       "                                              learning_rate=0.0503,\n",
       "                                              max_delta_step=2.0706,\n",
       "                                              max_depth=10,\n",
       "                                              min_child_weight=31.58,\n",
       "                                              missing=nan,\n",
       "                                              monotone_constraints=None,\n",
       "                                              n_estimators=166, n_jobs=None,\n",
       "                                              num_parallel_tree=None,\n",
       "                                              random_state=None, reg_alpha=None,\n",
       "                                              reg_lambda=None,\n",
       "                                              scale_pos_weight=None,\n",
       "                                              subsample=0.8639,\n",
       "                                              tree_method='gpu_hist',\n",
       "                                              validate_parameters=None,\n",
       "                                              verbosity=None))"
      ]
     },
     "execution_count": 11,
     "metadata": {},
     "output_type": "execute_result"
    }
   ],
   "source": [
    "model = MultiOutputClassifier(estimator=XGBClassifier(tree_method='gpu_hist'))\n",
    "params = {'estimator__colsample_bytree': 0.6522,\n",
    "          'estimator__gamma': 3.6975,\n",
    "          'estimator__learning_rate': 0.0503,\n",
    "          'estimator__max_delta_step': 2.0706,\n",
    "          'estimator__max_depth': 10,\n",
    "          'estimator__min_child_weight': 31.5800,\n",
    "          'estimator__n_estimators': 166,\n",
    "          'estimator__subsample': 0.8639\n",
    "         }\n",
    "model.set_params(**params)"
   ]
  },
  {
   "cell_type": "code",
   "execution_count": 12,
   "metadata": {
    "execution": {
     "iopub.execute_input": "2020-10-16T13:14:30.447220Z",
     "iopub.status.busy": "2020-10-16T13:14:30.446643Z",
     "iopub.status.idle": "2020-10-16T13:14:30.450601Z",
     "shell.execute_reply": "2020-10-16T13:14:30.450069Z"
    },
    "papermill": {
     "duration": 0.020801,
     "end_time": "2020-10-16T13:14:30.450731",
     "exception": false,
     "start_time": "2020-10-16T13:14:30.429930",
     "status": "completed"
    },
    "tags": []
   },
   "outputs": [],
   "source": [
    "cv_scores = []\n",
    "final_preds = []"
   ]
  },
  {
   "cell_type": "code",
   "execution_count": 13,
   "metadata": {
    "execution": {
     "iopub.execute_input": "2020-10-16T13:14:30.488103Z",
     "iopub.status.busy": "2020-10-16T13:14:30.487421Z",
     "iopub.status.idle": "2020-10-16T13:35:48.804989Z",
     "shell.execute_reply": "2020-10-16T13:35:48.806049Z"
    },
    "papermill": {
     "duration": 1278.341914,
     "end_time": "2020-10-16T13:35:48.806246",
     "exception": false,
     "start_time": "2020-10-16T13:14:30.464332",
     "status": "completed"
    },
    "tags": []
   },
   "outputs": [
    {
     "name": "stderr",
     "output_type": "stream",
     "text": [
      "/opt/conda/lib/python3.7/site-packages/sklearn/utils/validation.py:70: FutureWarning: Pass shuffle=False, random_state=None as keyword args. From version 0.25 passing these as positional arguments will result in an error\n",
      "  FutureWarning)\n"
     ]
    },
    {
     "name": "stdout",
     "output_type": "stream",
     "text": [
      "Beginning fold 1\n",
      "TRAIN INDEX: [    1     2     3 ... 23811 23812 23813] VALID INDEX: [    0    10    22 ... 23805 23808 23810]\n",
      "Total time taken to fit model:  202.64636278152466  seconds\n",
      "Validation log loss score: 0.01677902308697855\n",
      "Beginning fold 2\n",
      "TRAIN INDEX: [    0     1     3 ... 23809 23810 23811] VALID INDEX: [    2     5     7 ... 23801 23812 23813]\n",
      "Total time taken to fit model:  203.05812621116638  seconds\n",
      "Validation log loss score: 0.016878600725679153\n",
      "Beginning fold 3\n",
      "TRAIN INDEX: [    0     2     5 ... 23811 23812 23813] VALID INDEX: [    1     3     4 ... 23798 23802 23806]\n",
      "Total time taken to fit model:  202.70810985565186  seconds\n",
      "Validation log loss score: 0.016837053571453205\n",
      "Beginning fold 4\n",
      "TRAIN INDEX: [    0     1     2 ... 23810 23812 23813] VALID INDEX: [   23    34    47 ... 23793 23800 23811]\n",
      "Total time taken to fit model:  203.22569012641907  seconds\n",
      "Validation log loss score: 0.017030164165947055\n",
      "Beginning fold 5\n",
      "TRAIN INDEX: [    0     1     2 ... 23811 23812 23813] VALID INDEX: [   12    13    15 ... 23799 23807 23809]\n",
      "Total time taken to fit model:  202.78525137901306  seconds\n",
      "Validation log loss score: 0.016853963255410068\n"
     ]
    }
   ],
   "source": [
    "kf = MultilabelStratifiedKFold(n_splits=FOLDS)\n",
    "for fold, (train_index, valid_index) in enumerate(kf.split(X, y)):\n",
    "    \n",
    "    print('Beginning fold',fold+1)\n",
    "    print(\"TRAIN INDEX:\", train_index, \"VALID INDEX:\", valid_index)\n",
    "    \n",
    "    X_train, X_valid = X[train_index], X[valid_index]\n",
    "    y_train, y_valid = y[train_index], y[valid_index]\n",
    "    start = time.time()\n",
    "    model.fit(X_train,y_train)\n",
    "    print('Total time taken to fit model: ', time.time() - start, ' seconds')\n",
    "    preds = np.array(model.predict_proba(X_valid))\n",
    "\n",
    "    preds = preds[:,:,1].T\n",
    "    score = log_loss(np.ravel(y_valid),np.ravel(preds))\n",
    "\n",
    "    cv_scores.append(score)\n",
    "\n",
    "    print('Validation log loss score: {}'.format(score))\n",
    "    preds = np.array(model.predict_proba(X_test))\n",
    "    preds = preds[:,:,1].T\n",
    "    final_preds.append(preds)\n",
    "    "
   ]
  },
  {
   "cell_type": "code",
   "execution_count": 14,
   "metadata": {
    "execution": {
     "iopub.execute_input": "2020-10-16T13:35:48.864781Z",
     "iopub.status.busy": "2020-10-16T13:35:48.863905Z",
     "iopub.status.idle": "2020-10-16T13:35:51.267259Z",
     "shell.execute_reply": "2020-10-16T13:35:51.266066Z"
    },
    "papermill": {
     "duration": 2.433543,
     "end_time": "2020-10-16T13:35:51.267389",
     "exception": false,
     "start_time": "2020-10-16T13:35:48.833846",
     "status": "completed"
    },
    "tags": []
   },
   "outputs": [
    {
     "name": "stdout",
     "output_type": "stream",
     "text": [
      "Cross Validation scores:  [0.01677902308697855, 0.016878600725679153, 0.016837053571453205, 0.017030164165947055, 0.016853963255410068]\n",
      "Ensembling final predictions\n",
      "Done\n"
     ]
    }
   ],
   "source": [
    "print('Cross Validation scores: ',cv_scores)\n",
    "\n",
    "print('Ensembling final predictions')\n",
    "final_predictions = np.mean(np.array(final_preds),axis=0)\n",
    "\n",
    "print('Done')\n",
    "\n",
    "sub.iloc[:,1:] = final_predictions\n",
    "sub.to_csv('submission.csv',index=False)"
   ]
  },
  {
   "cell_type": "code",
   "execution_count": 15,
   "metadata": {
    "execution": {
     "iopub.execute_input": "2020-10-16T13:35:51.320029Z",
     "iopub.status.busy": "2020-10-16T13:35:51.318651Z",
     "iopub.status.idle": "2020-10-16T13:35:51.322266Z",
     "shell.execute_reply": "2020-10-16T13:35:51.322748Z"
    },
    "papermill": {
     "duration": 0.035202,
     "end_time": "2020-10-16T13:35:51.322877",
     "exception": false,
     "start_time": "2020-10-16T13:35:51.287675",
     "status": "completed"
    },
    "tags": []
   },
   "outputs": [
    {
     "data": {
      "text/plain": [
       "0.016875760961093608"
      ]
     },
     "execution_count": 15,
     "metadata": {},
     "output_type": "execute_result"
    }
   ],
   "source": [
    "np.mean(cv_scores)"
   ]
  },
  {
   "cell_type": "code",
   "execution_count": null,
   "metadata": {
    "papermill": {
     "duration": 0.020015,
     "end_time": "2020-10-16T13:35:51.363183",
     "exception": false,
     "start_time": "2020-10-16T13:35:51.343168",
     "status": "completed"
    },
    "tags": []
   },
   "outputs": [],
   "source": []
  }
 ],
 "metadata": {
  "kernelspec": {
   "display_name": "Python 3",
   "language": "python",
   "name": "python3"
  },
  "language_info": {
   "codemirror_mode": {
    "name": "ipython",
    "version": 3
   },
   "file_extension": ".py",
   "mimetype": "text/x-python",
   "name": "python",
   "nbconvert_exporter": "python",
   "pygments_lexer": "ipython3",
   "version": "3.7.6"
  },
  "papermill": {
   "duration": 1295.151903,
   "end_time": "2020-10-16T13:35:52.711265",
   "environment_variables": {},
   "exception": null,
   "input_path": "__notebook__.ipynb",
   "output_path": "__notebook__.ipynb",
   "parameters": {},
   "start_time": "2020-10-16T13:14:17.559362",
   "version": "2.1.0"
  }
 },
 "nbformat": 4,
 "nbformat_minor": 4
}
